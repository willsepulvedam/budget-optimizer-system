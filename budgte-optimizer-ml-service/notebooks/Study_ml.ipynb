{
 "cells": [
  {
   "cell_type": "markdown",
   "id": "308f250b",
   "metadata": {},
   "source": [
    "Cuadernillo donde se estara plasmara el proceso y la logica que se utilizara inicialemente para implementar un modelo de IA multimodal como lo viene siendo gemini inicialmente se estudiara conceptos backend los cuales se estaran utilizando para el proyecto en cada cuadernillo y la forma en como se implementaran estos inicialmente se estara estudiando fundamentos de apis y el paquete request en python "
   ]
  },
  {
   "cell_type": "code",
   "execution_count": null,
   "id": "0058b7a3",
   "metadata": {},
   "outputs": [
    {
     "name": "stdout",
     "output_type": "stream",
     "text": [
      "200\n",
      "[{\"login\":\"mojombo\",\"id\":1,\"node_id\":\"MDQ6VXNlcjE=\",\"avatar_url\":\"https://avatars.githubusercontent.com/u/1?v=4\",\"gravatar_id\":\"\",\"url\":\"https://api.github.com/users/mojombo\",\"html_url\":\"https://github.com/mojombo\",\"followers_url\":\"https://api.github.com/users/mojombo/followers\",\"following_url\":\"https://api.github.com/users/mojombo/following{/other_user}\",\"gists_url\":\"https://api.github.com/users/mojombo/gists{/gist_id}\",\"starred_url\":\"https://api.github.com/users/mojombo/starred{/owner}{/repo}\",\"subscriptions_url\":\"https://api.github.com/users/mojombo/subscriptions\",\"organizations_url\":\"https://api.github.com/users/mojombo/orgs\",\"repos_url\":\"https://api.github.com/users/mojombo/repos\",\"events_url\":\"https://api.github.com/users/mojombo/events{/privacy}\",\"received_events_url\":\"https://api.github.com/users/mojombo/received_events\",\"type\":\"User\",\"user_view_type\":\"public\",\"site_admin\":false},{\"login\":\"defunkt\",\"id\":2,\"node_id\":\"MDQ6VXNlcjI=\",\"avatar_url\":\"https://avatars.githubusercontent.com/u/2?v=4\",\"gravatar_id\":\"\",\"url\":\"https://api.github.com/users/defunkt\",\"html_url\":\"https://github.com/defunkt\",\"followers_url\":\"https://api.github.com/users/defunkt/followers\",\"following_url\":\"https://api.github.com/users/defunkt/following{/other_user}\",\"gists_url\":\"https://api.github.com/users/defunkt/gists{/gist_id}\",\"starred_url\":\"https://api.github.com/users/defunkt/starred{/owner}{/repo}\",\"subscriptions_url\":\"https://api.github.com/users/defunkt/subscriptions\",\"organizations_url\":\"https://api.github.com/users/defunkt/orgs\",\"repos_url\":\"https://api.github.com/users/defunkt/repos\",\"events_url\":\"https://api.github.com/users/defunkt/events{/privacy}\",\"received_events_url\":\"https://api.github.com/users/defunkt/received_events\",\"type\":\"User\",\"user_view_type\":\"public\",\"site_admin\":false},{\"login\":\"pjhyett\",\"id\":3,\"node_id\":\"MDQ6VXNlcjM=\",\"avatar_url\":\"https://avatars.githubusercontent.com/u/3?v=4\",\"gravatar_id\":\"\",\"url\":\"https://api.github.com/users/pjhyett\",\"html_url\":\"https://github.com/pjhyett\",\"followers_url\":\"https://api.github.com/users/pjhyett/followers\",\"following_url\":\"https://api.github.com/users/pjhyett/following{/other_user}\",\"gists_url\":\"https://api.github.com/users/pjhyett/gists{/gist_id}\",\"starred_url\":\"https://api.github.com/users/pjhyett/starred{/owner}{/repo}\",\"subscriptions_url\":\"https://api.github.com/users/pjhyett/subscriptions\",\"organizations_url\":\"https://api.github.com/users/pjhyett/orgs\",\"repos_url\":\"https://api.github.com/users/pjhyett/repos\",\"events_url\":\"https://api.github.com/users/pjhyett/events{/privacy}\",\"received_events_url\":\"https://api.github.com/users/pjhyett/received_events\",\"type\":\"User\",\"user_view_type\":\"public\",\"site_admin\":false},{\"login\":\"wycats\",\"id\":4,\"node_id\":\"MDQ6VXNlcjQ=\",\"avatar_url\":\"https://avatars.githubusercontent.com/u/4?v=4\",\"gravatar_id\":\"\",\"url\":\"https://api.github.com/users/wycats\",\"html_url\":\"https://github.com/wycats\",\"followers_url\":\"https://api.github.com/users/wycats/followers\",\"following_url\":\"https://api.github.com/users/wycats/following{/other_user}\",\"gists_url\":\"https://api.github.com/users/wycats/gists{/gist_id}\",\"starred_url\":\"https://api.github.com/users/wycats/starred{/owner}{/repo}\",\"subscriptions_url\":\"https://api.github.com/users/wycats/subscriptions\",\"organizations_url\":\"https://api.github.com/users/wycats/orgs\",\"repos_url\":\"https://api.github.com/users/wycats/repos\",\"events_url\":\"https://api.github.com/users/wycats/events{/privacy}\",\"received_events_url\":\"https://api.github.com/users/wycats/received_events\",\"type\":\"User\",\"user_view_type\":\"public\",\"site_admin\":false},{\"login\":\"ezmobius\",\"id\":5,\"node_id\":\"MDQ6VXNlcjU=\",\"avatar_url\":\"https://avatars.githubusercontent.com/u/5?v=4\",\"gravatar_id\":\"\",\"url\":\"https://api.github.com/users/ezmobius\",\"html_url\":\"https://github.com/ezmobius\",\"followers_url\":\"https://api.github.com/users/ezmobius/followers\",\"following_url\":\"https://api.github.com/users/ezmobius/following{/other_user}\",\"gists_url\":\"https://api.github.com/users/ezmobius/gists{/gist_id}\",\"starred_url\":\"https://api.github.com/users/ezmobius/starred{/owner}{/repo}\",\"subscriptions_url\":\"https://api.github.com/users/ezmobius/subscriptions\",\"organizations_url\":\"https://api.github.com/users/ezmobius/orgs\",\"repos_url\":\"https://api.github.com/users/ezmobius/repos\",\"events_url\":\"https://api.github.com/users/ezmobius/events{/privacy}\",\"received_events_url\":\"https://api.github.com/users/ezmobius/received_events\",\"type\":\"User\",\"user_view_type\":\"public\",\"site_admin\":false},{\"login\":\"ivey\",\"id\":6,\"node_id\":\"MDQ6VXNlcjY=\",\"avatar_url\":\"https://avatars.githubusercontent.com/u/6?v=4\",\"gravatar_id\":\"\",\"url\":\"https://api.github.com/users/ivey\",\"html_url\":\"https://github.com/ivey\",\"followers_url\":\"https://api.github.com/users/ivey/followers\",\"following_url\":\"https://api.github.com/users/ivey/following{/other_user}\",\"gists_url\":\"https://api.github.com/users/ivey/gists{/gist_id}\",\"starred_url\":\"https://api.github.com/users/ivey/starred{/owner}{/repo}\",\"subscriptions_url\":\"https://api.github.com/users/ivey/subscriptions\",\"organizations_url\":\"https://api.github.com/users/ivey/orgs\",\"repos_url\":\"https://api.github.com/users/ivey/repos\",\"events_url\":\"https://api.github.com/users/ivey/events{/privacy}\",\"received_events_url\":\"https://api.github.com/users/ivey/received_events\",\"type\":\"User\",\"user_view_type\":\"public\",\"site_admin\":false},{\"login\":\"evanphx\",\"id\":7,\"node_id\":\"MDQ6VXNlcjc=\",\"avatar_url\":\"https://avatars.githubusercontent.com/u/7?v=4\",\"gravatar_id\":\"\",\"url\":\"https://api.github.com/users/evanphx\",\"html_url\":\"https://github.com/evanphx\",\"followers_url\":\"https://api.github.com/users/evanphx/followers\",\"following_url\":\"https://api.github.com/users/evanphx/following{/other_user}\",\"gists_url\":\"https://api.github.com/users/evanphx/gists{/gist_id}\",\"starred_url\":\"https://api.github.com/users/evanphx/starred{/owner}{/repo}\",\"subscriptions_url\":\"https://api.github.com/users/evanphx/subscriptions\",\"organizations_url\":\"https://api.github.com/users/evanphx/orgs\",\"repos_url\":\"https://api.github.com/users/evanphx/repos\",\"events_url\":\"https://api.github.com/users/evanphx/events{/privacy}\",\"received_events_url\":\"https://api.github.com/users/evanphx/received_events\",\"type\":\"User\",\"user_view_type\":\"public\",\"site_admin\":false},{\"login\":\"vanpelt\",\"id\":17,\"node_id\":\"MDQ6VXNlcjE3\",\"avatar_url\":\"https://avatars.githubusercontent.com/u/17?v=4\",\"gravatar_id\":\"\",\"url\":\"https://api.github.com/users/vanpelt\",\"html_url\":\"https://github.com/vanpelt\",\"followers_url\":\"https://api.github.com/users/vanpelt/followers\",\"following_url\":\"https://api.github.com/users/vanpelt/following{/other_user}\",\"gists_url\":\"https://api.github.com/users/vanpelt/gists{/gist_id}\",\"starred_url\":\"https://api.github.com/users/vanpelt/starred{/owner}{/repo}\",\"subscriptions_url\":\"https://api.github.com/users/vanpelt/subscriptions\",\"organizations_url\":\"https://api.github.com/users/vanpelt/orgs\",\"repos_url\":\"https://api.github.com/users/vanpelt/repos\",\"events_url\":\"https://api.github.com/users/vanpelt/events{/privacy}\",\"received_events_url\":\"https://api.github.com/users/vanpelt/received_events\",\"type\":\"User\",\"user_view_type\":\"public\",\"site_admin\":false},{\"login\":\"wayneeseguin\",\"id\":18,\"node_id\":\"MDQ6VXNlcjE4\",\"avatar_url\":\"https://avatars.githubusercontent.com/u/18?v=4\",\"gravatar_id\":\"\",\"url\":\"https://api.github.com/users/wayneeseguin\",\"html_url\":\"https://github.com/wayneeseguin\",\"followers_url\":\"https://api.github.com/users/wayneeseguin/followers\",\"following_url\":\"https://api.github.com/users/wayneeseguin/following{/other_user}\",\"gists_url\":\"https://api.github.com/users/wayneeseguin/gists{/gist_id}\",\"starred_url\":\"https://api.github.com/users/wayneeseguin/starred{/owner}{/repo}\",\"subscriptions_url\":\"https://api.github.com/users/wayneeseguin/subscriptions\",\"organizations_url\":\"https://api.github.com/users/wayneeseguin/orgs\",\"repos_url\":\"https://api.github.com/users/wayneeseguin/repos\",\"events_url\":\"https://api.github.com/users/wayneeseguin/events{/privacy}\",\"received_events_url\":\"https://api.github.com/users/wayneeseguin/received_events\",\"type\":\"User\",\"user_view_type\":\"public\",\"site_admin\":false},{\"login\":\"brynary\",\"id\":19,\"node_id\":\"MDQ6VXNlcjE5\",\"avatar_url\":\"https://avatars.githubusercontent.com/u/19?v=4\",\"gravatar_id\":\"\",\"url\":\"https://api.github.com/users/brynary\",\"html_url\":\"https://github.com/brynary\",\"followers_url\":\"https://api.github.com/users/brynary/followers\",\"following_url\":\"https://api.github.com/users/brynary/following{/other_user}\",\"gists_url\":\"https://api.github.com/users/brynary/gists{/gist_id}\",\"starred_url\":\"https://api.github.com/users/brynary/starred{/owner}{/repo}\",\"subscriptions_url\":\"https://api.github.com/users/brynary/subscriptions\",\"organizations_url\":\"https://api.github.com/users/brynary/orgs\",\"repos_url\":\"https://api.github.com/users/brynary/repos\",\"events_url\":\"https://api.github.com/users/brynary/events{/privacy}\",\"received_events_url\":\"https://api.github.com/users/brynary/received_events\",\"type\":\"User\",\"user_view_type\":\"public\",\"site_admin\":false},{\"login\":\"kevinclark\",\"id\":20,\"node_id\":\"MDQ6VXNlcjIw\",\"avatar_url\":\"https://avatars.githubusercontent.com/u/20?v=4\",\"gravatar_id\":\"\",\"url\":\"https://api.github.com/users/kevinclark\",\"html_url\":\"https://github.com/kevinclark\",\"followers_url\":\"https://api.github.com/users/kevinclark/followers\",\"following_url\":\"https://api.github.com/users/kevinclark/following{/other_user}\",\"gists_url\":\"https://api.github.com/users/kevinclark/gists{/gist_id}\",\"starred_url\":\"https://api.github.com/users/kevinclark/starred{/owner}{/repo}\",\"subscriptions_url\":\"https://api.github.com/users/kevinclark/subscriptions\",\"organizations_url\":\"https://api.github.com/users/kevinclark/orgs\",\"repos_url\":\"https://api.github.com/users/kevinclark/repos\",\"events_url\":\"https://api.github.com/users/kevinclark/events{/privacy}\",\"received_events_url\":\"https://api.github.com/users/kevinclark/received_events\",\"type\":\"User\",\"user_view_type\":\"public\",\"site_admin\":false},{\"login\":\"technoweenie\",\"id\":21,\"node_id\":\"MDQ6VXNlcjIx\",\"avatar_url\":\"https://avatars.githubusercontent.com/u/21?v=4\",\"gravatar_id\":\"\",\"url\":\"https://api.github.com/users/technoweenie\",\"html_url\":\"https://github.com/technoweenie\",\"followers_url\":\"https://api.github.com/users/technoweenie/followers\",\"following_url\":\"https://api.github.com/users/technoweenie/following{/other_user}\",\"gists_url\":\"https://api.github.com/users/technoweenie/gists{/gist_id}\",\"starred_url\":\"https://api.github.com/users/technoweenie/starred{/owner}{/repo}\",\"subscriptions_url\":\"https://api.github.com/users/technoweenie/subscriptions\",\"organizations_url\":\"https://api.github.com/users/technoweenie/orgs\",\"repos_url\":\"https://api.github.com/users/technoweenie/repos\",\"events_url\":\"https://api.github.com/users/technoweenie/events{/privacy}\",\"received_events_url\":\"https://api.github.com/users/technoweenie/received_events\",\"type\":\"User\",\"user_view_type\":\"public\",\"site_admin\":false},{\"login\":\"macournoyer\",\"id\":22,\"node_id\":\"MDQ6VXNlcjIy\",\"avatar_url\":\"https://avatars.githubusercontent.com/u/22?v=4\",\"gravatar_id\":\"\",\"url\":\"https://api.github.com/users/macournoyer\",\"html_url\":\"https://github.com/macournoyer\",\"followers_url\":\"https://api.github.com/users/macournoyer/followers\",\"following_url\":\"https://api.github.com/users/macournoyer/following{/other_user}\",\"gists_url\":\"https://api.github.com/users/macournoyer/gists{/gist_id}\",\"starred_url\":\"https://api.github.com/users/macournoyer/starred{/owner}{/repo}\",\"subscriptions_url\":\"https://api.github.com/users/macournoyer/subscriptions\",\"organizations_url\":\"https://api.github.com/users/macournoyer/orgs\",\"repos_url\":\"https://api.github.com/users/macournoyer/repos\",\"events_url\":\"https://api.github.com/users/macournoyer/events{/privacy}\",\"received_events_url\":\"https://api.github.com/users/macournoyer/received_events\",\"type\":\"User\",\"user_view_type\":\"public\",\"site_admin\":false},{\"login\":\"takeo\",\"id\":23,\"node_id\":\"MDQ6VXNlcjIz\",\"avatar_url\":\"https://avatars.githubusercontent.com/u/23?v=4\",\"gravatar_id\":\"\",\"url\":\"https://api.github.com/users/takeo\",\"html_url\":\"https://github.com/takeo\",\"followers_url\":\"https://api.github.com/users/takeo/followers\",\"following_url\":\"https://api.github.com/users/takeo/following{/other_user}\",\"gists_url\":\"https://api.github.com/users/takeo/gists{/gist_id}\",\"starred_url\":\"https://api.github.com/users/takeo/starred{/owner}{/repo}\",\"subscriptions_url\":\"https://api.github.com/users/takeo/subscriptions\",\"organizations_url\":\"https://api.github.com/users/takeo/orgs\",\"repos_url\":\"https://api.github.com/users/takeo/repos\",\"events_url\":\"https://api.github.com/users/takeo/events{/privacy}\",\"received_events_url\":\"https://api.github.com/users/takeo/received_events\",\"type\":\"User\",\"user_view_type\":\"public\",\"site_admin\":false},{\"login\":\"caged\",\"id\":25,\"node_id\":\"MDQ6VXNlcjI1\",\"avatar_url\":\"https://avatars.githubusercontent.com/u/25?v=4\",\"gravatar_id\":\"\",\"url\":\"https://api.github.com/users/caged\",\"html_url\":\"https://github.com/caged\",\"followers_url\":\"https://api.github.com/users/caged/followers\",\"following_url\":\"https://api.github.com/users/caged/following{/other_user}\",\"gists_url\":\"https://api.github.com/users/caged/gists{/gist_id}\",\"starred_url\":\"https://api.github.com/users/caged/starred{/owner}{/repo}\",\"subscriptions_url\":\"https://api.github.com/users/caged/subscriptions\",\"organizations_url\":\"https://api.github.com/users/caged/orgs\",\"repos_url\":\"https://api.github.com/users/caged/repos\",\"events_url\":\"https://api.github.com/users/caged/events{/privacy}\",\"received_events_url\":\"https://api.github.com/users/caged/received_events\",\"type\":\"User\",\"user_view_type\":\"public\",\"site_admin\":false},{\"login\":\"topfunky\",\"id\":26,\"node_id\":\"MDQ6VXNlcjI2\",\"avatar_url\":\"https://avatars.githubusercontent.com/u/26?v=4\",\"gravatar_id\":\"\",\"url\":\"https://api.github.com/users/topfunky\",\"html_url\":\"https://github.com/topfunky\",\"followers_url\":\"https://api.github.com/users/topfunky/followers\",\"following_url\":\"https://api.github.com/users/topfunky/following{/other_user}\",\"gists_url\":\"https://api.github.com/users/topfunky/gists{/gist_id}\",\"starred_url\":\"https://api.github.com/users/topfunky/starred{/owner}{/repo}\",\"subscriptions_url\":\"https://api.github.com/users/topfunky/subscriptions\",\"organizations_url\":\"https://api.github.com/users/topfunky/orgs\",\"repos_url\":\"https://api.github.com/users/topfunky/repos\",\"events_url\":\"https://api.github.com/users/topfunky/events{/privacy}\",\"received_events_url\":\"https://api.github.com/users/topfunky/received_events\",\"type\":\"User\",\"user_view_type\":\"public\",\"site_admin\":false},{\"login\":\"anotherjesse\",\"id\":27,\"node_id\":\"MDQ6VXNlcjI3\",\"avatar_url\":\"https://avatars.githubusercontent.com/u/27?v=4\",\"gravatar_id\":\"\",\"url\":\"https://api.github.com/users/anotherjesse\",\"html_url\":\"https://github.com/anotherjesse\",\"followers_url\":\"https://api.github.com/users/anotherjesse/followers\",\"following_url\":\"https://api.github.com/users/anotherjesse/following{/other_user}\",\"gists_url\":\"https://api.github.com/users/anotherjesse/gists{/gist_id}\",\"starred_url\":\"https://api.github.com/users/anotherjesse/starred{/owner}{/repo}\",\"subscriptions_url\":\"https://api.github.com/users/anotherjesse/subscriptions\",\"organizations_url\":\"https://api.github.com/users/anotherjesse/orgs\",\"repos_url\":\"https://api.github.com/users/anotherjesse/repos\",\"events_url\":\"https://api.github.com/users/anotherjesse/events{/privacy}\",\"received_events_url\":\"https://api.github.com/users/anotherjesse/received_events\",\"type\":\"User\",\"user_view_type\":\"public\",\"site_admin\":false},{\"login\":\"roland\",\"id\":28,\"node_id\":\"MDQ6VXNlcjI4\",\"avatar_url\":\"https://avatars.githubusercontent.com/u/28?v=4\",\"gravatar_id\":\"\",\"url\":\"https://api.github.com/users/roland\",\"html_url\":\"https://github.com/roland\",\"followers_url\":\"https://api.github.com/users/roland/followers\",\"following_url\":\"https://api.github.com/users/roland/following{/other_user}\",\"gists_url\":\"https://api.github.com/users/roland/gists{/gist_id}\",\"starred_url\":\"https://api.github.com/users/roland/starred{/owner}{/repo}\",\"subscriptions_url\":\"https://api.github.com/users/roland/subscriptions\",\"organizations_url\":\"https://api.github.com/users/roland/orgs\",\"repos_url\":\"https://api.github.com/users/roland/repos\",\"events_url\":\"https://api.github.com/users/roland/events{/privacy}\",\"received_events_url\":\"https://api.github.com/users/roland/received_events\",\"type\":\"User\",\"user_view_type\":\"public\",\"site_admin\":false},{\"login\":\"lukas\",\"id\":29,\"node_id\":\"MDQ6VXNlcjI5\",\"avatar_url\":\"https://avatars.githubusercontent.com/u/29?v=4\",\"gravatar_id\":\"\",\"url\":\"https://api.github.com/users/lukas\",\"html_url\":\"https://github.com/lukas\",\"followers_url\":\"https://api.github.com/users/lukas/followers\",\"following_url\":\"https://api.github.com/users/lukas/following{/other_user}\",\"gists_url\":\"https://api.github.com/users/lukas/gists{/gist_id}\",\"starred_url\":\"https://api.github.com/users/lukas/starred{/owner}{/repo}\",\"subscriptions_url\":\"https://api.github.com/users/lukas/subscriptions\",\"organizations_url\":\"https://api.github.com/users/lukas/orgs\",\"repos_url\":\"https://api.github.com/users/lukas/repos\",\"events_url\":\"https://api.github.com/users/lukas/events{/privacy}\",\"received_events_url\":\"https://api.github.com/users/lukas/received_events\",\"type\":\"User\",\"user_view_type\":\"public\",\"site_admin\":false},{\"login\":\"fanvsfan\",\"id\":30,\"node_id\":\"MDQ6VXNlcjMw\",\"avatar_url\":\"https://avatars.githubusercontent.com/u/30?v=4\",\"gravatar_id\":\"\",\"url\":\"https://api.github.com/users/fanvsfan\",\"html_url\":\"https://github.com/fanvsfan\",\"followers_url\":\"https://api.github.com/users/fanvsfan/followers\",\"following_url\":\"https://api.github.com/users/fanvsfan/following{/other_user}\",\"gists_url\":\"https://api.github.com/users/fanvsfan/gists{/gist_id}\",\"starred_url\":\"https://api.github.com/users/fanvsfan/starred{/owner}{/repo}\",\"subscriptions_url\":\"https://api.github.com/users/fanvsfan/subscriptions\",\"organizations_url\":\"https://api.github.com/users/fanvsfan/orgs\",\"repos_url\":\"https://api.github.com/users/fanvsfan/repos\",\"events_url\":\"https://api.github.com/users/fanvsfan/events{/privacy}\",\"received_events_url\":\"https://api.github.com/users/fanvsfan/received_events\",\"type\":\"User\",\"user_view_type\":\"public\",\"site_admin\":false},{\"login\":\"tomtt\",\"id\":31,\"node_id\":\"MDQ6VXNlcjMx\",\"avatar_url\":\"https://avatars.githubusercontent.com/u/31?v=4\",\"gravatar_id\":\"\",\"url\":\"https://api.github.com/users/tomtt\",\"html_url\":\"https://github.com/tomtt\",\"followers_url\":\"https://api.github.com/users/tomtt/followers\",\"following_url\":\"https://api.github.com/users/tomtt/following{/other_user}\",\"gists_url\":\"https://api.github.com/users/tomtt/gists{/gist_id}\",\"starred_url\":\"https://api.github.com/users/tomtt/starred{/owner}{/repo}\",\"subscriptions_url\":\"https://api.github.com/users/tomtt/subscriptions\",\"organizations_url\":\"https://api.github.com/users/tomtt/orgs\",\"repos_url\":\"https://api.github.com/users/tomtt/repos\",\"events_url\":\"https://api.github.com/users/tomtt/events{/privacy}\",\"received_events_url\":\"https://api.github.com/users/tomtt/received_events\",\"type\":\"User\",\"user_view_type\":\"public\",\"site_admin\":false},{\"login\":\"railsjitsu\",\"id\":32,\"node_id\":\"MDQ6VXNlcjMy\",\"avatar_url\":\"https://avatars.githubusercontent.com/u/32?v=4\",\"gravatar_id\":\"\",\"url\":\"https://api.github.com/users/railsjitsu\",\"html_url\":\"https://github.com/railsjitsu\",\"followers_url\":\"https://api.github.com/users/railsjitsu/followers\",\"following_url\":\"https://api.github.com/users/railsjitsu/following{/other_user}\",\"gists_url\":\"https://api.github.com/users/railsjitsu/gists{/gist_id}\",\"starred_url\":\"https://api.github.com/users/railsjitsu/starred{/owner}{/repo}\",\"subscriptions_url\":\"https://api.github.com/users/railsjitsu/subscriptions\",\"organizations_url\":\"https://api.github.com/users/railsjitsu/orgs\",\"repos_url\":\"https://api.github.com/users/railsjitsu/repos\",\"events_url\":\"https://api.github.com/users/railsjitsu/events{/privacy}\",\"received_events_url\":\"https://api.github.com/users/railsjitsu/received_events\",\"type\":\"User\",\"user_view_type\":\"public\",\"site_admin\":false},{\"login\":\"nitay\",\"id\":34,\"node_id\":\"MDQ6VXNlcjM0\",\"avatar_url\":\"https://avatars.githubusercontent.com/u/34?v=4\",\"gravatar_id\":\"\",\"url\":\"https://api.github.com/users/nitay\",\"html_url\":\"https://github.com/nitay\",\"followers_url\":\"https://api.github.com/users/nitay/followers\",\"following_url\":\"https://api.github.com/users/nitay/following{/other_user}\",\"gists_url\":\"https://api.github.com/users/nitay/gists{/gist_id}\",\"starred_url\":\"https://api.github.com/users/nitay/starred{/owner}{/repo}\",\"subscriptions_url\":\"https://api.github.com/users/nitay/subscriptions\",\"organizations_url\":\"https://api.github.com/users/nitay/orgs\",\"repos_url\":\"https://api.github.com/users/nitay/repos\",\"events_url\":\"https://api.github.com/users/nitay/events{/privacy}\",\"received_events_url\":\"https://api.github.com/users/nitay/received_events\",\"type\":\"User\",\"user_view_type\":\"public\",\"site_admin\":false},{\"login\":\"kevwil\",\"id\":35,\"node_id\":\"MDQ6VXNlcjM1\",\"avatar_url\":\"https://avatars.githubusercontent.com/u/35?v=4\",\"gravatar_id\":\"\",\"url\":\"https://api.github.com/users/kevwil\",\"html_url\":\"https://github.com/kevwil\",\"followers_url\":\"https://api.github.com/users/kevwil/followers\",\"following_url\":\"https://api.github.com/users/kevwil/following{/other_user}\",\"gists_url\":\"https://api.github.com/users/kevwil/gists{/gist_id}\",\"starred_url\":\"https://api.github.com/users/kevwil/starred{/owner}{/repo}\",\"subscriptions_url\":\"https://api.github.com/users/kevwil/subscriptions\",\"organizations_url\":\"https://api.github.com/users/kevwil/orgs\",\"repos_url\":\"https://api.github.com/users/kevwil/repos\",\"events_url\":\"https://api.github.com/users/kevwil/events{/privacy}\",\"received_events_url\":\"https://api.github.com/users/kevwil/received_events\",\"type\":\"User\",\"user_view_type\":\"public\",\"site_admin\":false},{\"login\":\"KirinDave\",\"id\":36,\"node_id\":\"MDQ6VXNlcjM2\",\"avatar_url\":\"https://avatars.githubusercontent.com/u/36?v=4\",\"gravatar_id\":\"\",\"url\":\"https://api.github.com/users/KirinDave\",\"html_url\":\"https://github.com/KirinDave\",\"followers_url\":\"https://api.github.com/users/KirinDave/followers\",\"following_url\":\"https://api.github.com/users/KirinDave/following{/other_user}\",\"gists_url\":\"https://api.github.com/users/KirinDave/gists{/gist_id}\",\"starred_url\":\"https://api.github.com/users/KirinDave/starred{/owner}{/repo}\",\"subscriptions_url\":\"https://api.github.com/users/KirinDave/subscriptions\",\"organizations_url\":\"https://api.github.com/users/KirinDave/orgs\",\"repos_url\":\"https://api.github.com/users/KirinDave/repos\",\"events_url\":\"https://api.github.com/users/KirinDave/events{/privacy}\",\"received_events_url\":\"https://api.github.com/users/KirinDave/received_events\",\"type\":\"User\",\"user_view_type\":\"public\",\"site_admin\":false},{\"login\":\"jamesgolick\",\"id\":37,\"node_id\":\"MDQ6VXNlcjM3\",\"avatar_url\":\"https://avatars.githubusercontent.com/u/37?v=4\",\"gravatar_id\":\"\",\"url\":\"https://api.github.com/users/jamesgolick\",\"html_url\":\"https://github.com/jamesgolick\",\"followers_url\":\"https://api.github.com/users/jamesgolick/followers\",\"following_url\":\"https://api.github.com/users/jamesgolick/following{/other_user}\",\"gists_url\":\"https://api.github.com/users/jamesgolick/gists{/gist_id}\",\"starred_url\":\"https://api.github.com/users/jamesgolick/starred{/owner}{/repo}\",\"subscriptions_url\":\"https://api.github.com/users/jamesgolick/subscriptions\",\"organizations_url\":\"https://api.github.com/users/jamesgolick/orgs\",\"repos_url\":\"https://api.github.com/users/jamesgolick/repos\",\"events_url\":\"https://api.github.com/users/jamesgolick/events{/privacy}\",\"received_events_url\":\"https://api.github.com/users/jamesgolick/received_events\",\"type\":\"User\",\"user_view_type\":\"public\",\"site_admin\":false},{\"login\":\"atmos\",\"id\":38,\"node_id\":\"MDQ6VXNlcjM4\",\"avatar_url\":\"https://avatars.githubusercontent.com/u/38?v=4\",\"gravatar_id\":\"\",\"url\":\"https://api.github.com/users/atmos\",\"html_url\":\"https://github.com/atmos\",\"followers_url\":\"https://api.github.com/users/atmos/followers\",\"following_url\":\"https://api.github.com/users/atmos/following{/other_user}\",\"gists_url\":\"https://api.github.com/users/atmos/gists{/gist_id}\",\"starred_url\":\"https://api.github.com/users/atmos/starred{/owner}{/repo}\",\"subscriptions_url\":\"https://api.github.com/users/atmos/subscriptions\",\"organizations_url\":\"https://api.github.com/users/atmos/orgs\",\"repos_url\":\"https://api.github.com/users/atmos/repos\",\"events_url\":\"https://api.github.com/users/atmos/events{/privacy}\",\"received_events_url\":\"https://api.github.com/users/atmos/received_events\",\"type\":\"User\",\"user_view_type\":\"public\",\"site_admin\":false},{\"login\":\"errfree\",\"id\":44,\"node_id\":\"MDEyOk9yZ2FuaXphdGlvbjQ0\",\"avatar_url\":\"https://avatars.githubusercontent.com/u/44?v=4\",\"gravatar_id\":\"\",\"url\":\"https://api.github.com/users/errfree\",\"html_url\":\"https://github.com/errfree\",\"followers_url\":\"https://api.github.com/users/errfree/followers\",\"following_url\":\"https://api.github.com/users/errfree/following{/other_user}\",\"gists_url\":\"https://api.github.com/users/errfree/gists{/gist_id}\",\"starred_url\":\"https://api.github.com/users/errfree/starred{/owner}{/repo}\",\"subscriptions_url\":\"https://api.github.com/users/errfree/subscriptions\",\"organizations_url\":\"https://api.github.com/users/errfree/orgs\",\"repos_url\":\"https://api.github.com/users/errfree/repos\",\"events_url\":\"https://api.github.com/users/errfree/events{/privacy}\",\"received_events_url\":\"https://api.github.com/users/errfree/received_events\",\"type\":\"Organization\",\"user_view_type\":\"public\",\"site_admin\":false},{\"login\":\"mojodna\",\"id\":45,\"node_id\":\"MDQ6VXNlcjQ1\",\"avatar_url\":\"https://avatars.githubusercontent.com/u/45?v=4\",\"gravatar_id\":\"\",\"url\":\"https://api.github.com/users/mojodna\",\"html_url\":\"https://github.com/mojodna\",\"followers_url\":\"https://api.github.com/users/mojodna/followers\",\"following_url\":\"https://api.github.com/users/mojodna/following{/other_user}\",\"gists_url\":\"https://api.github.com/users/mojodna/gists{/gist_id}\",\"starred_url\":\"https://api.github.com/users/mojodna/starred{/owner}{/repo}\",\"subscriptions_url\":\"https://api.github.com/users/mojodna/subscriptions\",\"organizations_url\":\"https://api.github.com/users/mojodna/orgs\",\"repos_url\":\"https://api.github.com/users/mojodna/repos\",\"events_url\":\"https://api.github.com/users/mojodna/events{/privacy}\",\"received_events_url\":\"https://api.github.com/users/mojodna/received_events\",\"type\":\"User\",\"user_view_type\":\"public\",\"site_admin\":false},{\"login\":\"bmizerany\",\"id\":46,\"node_id\":\"MDQ6VXNlcjQ2\",\"avatar_url\":\"https://avatars.githubusercontent.com/u/46?v=4\",\"gravatar_id\":\"\",\"url\":\"https://api.github.com/users/bmizerany\",\"html_url\":\"https://github.com/bmizerany\",\"followers_url\":\"https://api.github.com/users/bmizerany/followers\",\"following_url\":\"https://api.github.com/users/bmizerany/following{/other_user}\",\"gists_url\":\"https://api.github.com/users/bmizerany/gists{/gist_id}\",\"starred_url\":\"https://api.github.com/users/bmizerany/starred{/owner}{/repo}\",\"subscriptions_url\":\"https://api.github.com/users/bmizerany/subscriptions\",\"organizations_url\":\"https://api.github.com/users/bmizerany/orgs\",\"repos_url\":\"https://api.github.com/users/bmizerany/repos\",\"events_url\":\"https://api.github.com/users/bmizerany/events{/privacy}\",\"received_events_url\":\"https://api.github.com/users/bmizerany/received_events\",\"type\":\"User\",\"user_view_type\":\"public\",\"site_admin\":false}]\n"
     ]
    },
    {
     "data": {
      "text/plain": [
       "'\\n    el metodo post nos sirve para enviar datos a el servidor y que este cree algo nuevo esto puede ser crear nuevos tipos de datos o una accion que queremos que sea ejecutada\\n\\n    otros metodos que podemos encontrar son put y patch ambos hacen lo mimos actualizar la informacion la diferencia es que el primero actualiza la informacion pero en ese proceso borra la anterior y el segundo la actualiza correctamente sin hacer locuras \\n\\n    delete -> elimina datos (rutas o endpoints) en funcion de la forma en como esta construida la api \\n\\n\\n    otra cosa y ya finalizando antes de ver la libreria es el endpoint entender el endpoint es crucial su estructura ya sabemos que esta es la direccion o url del sitio servidor o nuestro principal recurso mejor dicho pero este tiene unas subdivisiones que si no se tienen claras no se podra hacer un mejor analisis al momento de utilizar la libreria \\n\\n    estructura de un endpoint: primero encontramos el protocolo que describe el formato de transferencia ejemplo: https://                                                                                    \\n                               segundo encontramos el dominio que nos da la direccion url de el elemento que estamos consultado en si api.github.com \\n'"
      ]
     },
     "execution_count": 8,
     "metadata": {},
     "output_type": "execute_result"
    }
   ],
   "source": [
    "# objectivo entender como funciona las apis  como hacer peticiones https \n",
    "\n",
    "\"\"\"\n",
    "   una api es un conjunto de reglas y formatos que permiten que dos programas puedan establecer una comunicacion en la cual se tiene un cliente y servidor en ese sentido el cliente es el que solicita los datos mientras que el servidor es el que los sirve valga la redundancia en python inicialmente y como estudio para entender estos conceptos se pueden realizar dichas peticiones utilizando la libreria request esta nos permite realizar acciones (metodos) los cuales funcionan como un crud el intercambio de datos de una api se puede dividir en 2 fases: \n",
    "   \n",
    "   1- request: esta contiene un metodo, endpoint el cual es la url, headers que son meta-informacion del programa y por ultimo un body que son los datos que se enviann \n",
    "   2- response: contiene un status_code que nos indica si la request fue procesada no procesada o cualquier imprevisto que haya sucedido con ella, un header y por ultimo la respuesta que nos da la api \n",
    "   \n",
    "   en las apis tenemos clasificaciones que estas son protocos un protoco es una variacion de una api y cada variacion se da de forma diferente para este modelo se estara utilizando una api rest \n",
    "   \n",
    "   una api rest es un tipo de protocolo en donde la informacion se transfiere en formato de estado representacional es decir que su estado en ese momento es su representacion que se transfiere no se transfiere el modelo en si si no una representacion de el mismo (una instancia de la informacion) \n",
    "\"\"\"\n",
    "\n",
    "import requests\n",
    "\n",
    "# inicialmente tenemos que importar la libreria luego de ello creamos una instancia pasandole el endpoint \n",
    "r = requests.get('https://api.github.com/users') # url para hacer peticiones a github/users\n",
    "\n",
    "\"\"\"\n",
    "     antes de ver el funcionamiento de request hay que hablar de algo http un metodo de transferencia de hipertexto es decir un protocolo en el cual se basa rest nos permite realizar peticiones similares a un crud y estas peticiones y acciones son las que hacen la magia y nos permite manipular los datos por eso acontinuacion se estudiaran dichos metodos que como se observa mas arriba se puede apreciar el primero que es get \n",
    "     \n",
    "     GET- nos permite solicitar informacion y listo mas nada \n",
    "\"\"\"\n",
    "\n",
    "print(r.status_code)\n",
    "\n",
    "# podemos ver informacion con .text\n",
    "print(r.text)\n",
    "\n",
    "\"\"\"\n",
    "    el metodo post nos sirve para enviar datos a el servidor y que este cree algo nuevo esto puede ser crear nuevos tipos de datos o una accion que queremos que sea ejecutada\n",
    "    \n",
    "    otros metodos que podemos encontrar son put y patch ambos hacen lo mimos actualizar la informacion la diferencia es que el primero actualiza la informacion pero en ese proceso borra la anterior y el segundo la actualiza correctamente sin hacer locuras \n",
    "    \n",
    "    delete -> elimina datos (rutas o endpoints) en funcion de la forma en como esta construida la api \n",
    "    \n",
    "    \n",
    "    otra cosa y ya finalizando antes de ver la libreria es el endpoint entender el endpoint es crucial su estructura ya sabemos que esta es la direccion o url del sitio servidor o nuestro principal recurso mejor dicho pero este tiene unas subdivisiones que si no se tienen claras no se podra hacer un mejor analisis al momento de utilizar la libreria \n",
    "    \n",
    "    estructura de un endpoint: primero encontramos el protocolo que describe el formato de transferencia ejemplo: https://                                                                                    \n",
    "                               segundo encontramos el dominio que nos da la direccion url de el elemento que estamos consultado en si api.github.com \n",
    "                               tercero encontramos la ruta que son los recursos o coleciones de estos a los que accedemos \n",
    "                               cuarto y ultimo encontramos lo que viene siendo los parametros de nuestro endpotin el cual nos da los filtros y operaciones de este \n",
    "                               ejemplo final https://api.github.com/users?page=2&limit=5\n",
    "\"\"\"\n",
    "\n",
    "\n",
    "\n"
   ]
  },
  {
   "cell_type": "code",
   "execution_count": null,
   "id": "3fccd9e3",
   "metadata": {},
   "outputs": [
    {
     "name": "stdout",
     "output_type": "stream",
     "text": [
      "{'userId': 1, 'id': 1, 'title': 'sunt aut facere repellat provident occaecati excepturi optio reprehenderit', 'body': 'quia et suscipit\\nsuscipit recusandae consequuntur expedita et cum\\nreprehenderit molestiae ut ut quas totam\\nnostrum rerum est autem sunt rem eveniet architecto'}\n",
      "200\n"
     ]
    }
   ],
   "source": [
    "import requests\n",
    "\n",
    "# endpoint \n",
    "url = \"https://jsonplaceholder.typicode.com/posts/1\"\n",
    "\n",
    "# instancia de request \n",
    "response = requests.get(url=url)\n",
    "\n",
    "# imprimimos el json \n",
    "print(response.json())\n",
    "# imprimimos el estado \n",
    "print(response.status_code) # el 200 significa todo ok\n",
    "\n"
   ]
  },
  {
   "cell_type": "code",
   "execution_count": 13,
   "id": "b6903bfc",
   "metadata": {},
   "outputs": [
    {
     "name": "stdout",
     "output_type": "stream",
     "text": [
      "{'userId': 1, 'id': 1, 'title': 'sunt aut facere repellat provident occaecati excepturi optio reprehenderit', 'body': 'quia et suscipit\\nsuscipit recusandae consequuntur expedita et cum\\nreprehenderit molestiae ut ut quas totam\\nnostrum rerum est autem sunt rem eveniet architecto'} \n",
      "\n",
      "{'userId': 1, 'id': 2, 'title': 'qui est esse', 'body': 'est rerum tempore vitae\\nsequi sint nihil reprehenderit dolor beatae ea dolores neque\\nfugiat blanditiis voluptate porro vel nihil molestiae ut reiciendis\\nqui aperiam non debitis possimus qui neque nisi nulla'} \n",
      "\n",
      "{'userId': 1, 'id': 3, 'title': 'ea molestias quasi exercitationem repellat qui ipsa sit aut', 'body': 'et iusto sed quo iure\\nvoluptatem occaecati omnis eligendi aut ad\\nvoluptatem doloribus vel accusantium quis pariatur\\nmolestiae porro eius odio et labore et velit aut'} \n",
      "\n"
     ]
    }
   ],
   "source": [
    "import requests\n",
    "\n",
    "# ahora haremos una pequeña modificacion a el codigo anterior por el siguiente motivo que es obtener ciertos datos limitados no queremos todos de una vez y para esto utilizamos algo llamado querys params \n",
    "\n",
    "url = \"https://jsonplaceholder.typicode.com/posts\"\n",
    "\n",
    "query_params = {'id': [1,2,3], 'userId': 1}\n",
    "\n",
    "# creamos la instancia de request \n",
    "response_2 = requests.get(url=url,params=query_params)\n",
    "\n",
    "# imprimos el json obtenido \n",
    "for i in response_2.json(): \n",
    "    print(i,'\\n')"
   ]
  },
  {
   "cell_type": "code",
   "execution_count": null,
   "id": "bf717ea2",
   "metadata": {},
   "outputs": [
    {
     "name": "stdout",
     "output_type": "stream",
     "text": [
      "{'name': 'guts', 'userID': 1, 'id': 101, 'title': 'pelea con marcias llamados randy', 'body': 'este es un ejemplo de post'}\n"
     ]
    }
   ],
   "source": [
    "import requests\n",
    "\n",
    "# ahora haremos un ejemplo con post para entender el funcionamiento de este \n",
    "new_user: dict = {\n",
    "    'name': 'guts',\n",
    "    'userID': 1,\n",
    "    'id': 1,\n",
    "    'title': 'pelea con maricas llamados randy',\n",
    "    'body': 'este es un ejemplo de post'\n",
    "}\n",
    "\n",
    "# especificamos el endpoint \n",
    "endpoind: str = \"https://jsonplaceholder.typicode.com/posts\"\n",
    "\n",
    "# creamos el post \n",
    "response_post = requests.post(url=endpoind, json=new_user)\n",
    "\n",
    "# imprimimos la respuesta \n",
    "print(response_post.json())"
   ]
  },
  {
   "cell_type": "code",
   "execution_count": null,
   "id": "0d7eeb51",
   "metadata": {},
   "outputs": [
    {
     "name": "stdout",
     "output_type": "stream",
     "text": [
      "skipped\n",
      "\n",
      "titulo de la pregunta: Transferring data between dataframes where 2 columns match\n",
      "\n",
      "link de la pregunta: https://stackoverflow.com/questions/79785927/transferring-data-between-dataframes-where-2-columns-match\n",
      "\n",
      "titulo de la pregunta: Game development in Godot 4.5 attack system not wotking\n",
      "\n",
      "link de la pregunta: https://stackoverflow.com/questions/79785926/game-development-in-godot-4-5-attack-system-not-wotking\n",
      "\n",
      "skipped\n",
      "\n",
      "titulo de la pregunta: Modern JavaScript and String Substition\n",
      "\n",
      "link de la pregunta: https://stackoverflow.com/questions/79785925/modern-javascript-and-string-substition\n",
      "\n",
      "skipped\n",
      "\n",
      "titulo de la pregunta: How to identify overlapping date in SQL Server and remove those rows\n",
      "\n",
      "link de la pregunta: https://stackoverflow.com/questions/79785809/how-to-identify-overlapping-date-in-sql-server-and-remove-those-rows\n",
      "\n",
      "titulo de la pregunta: Set-Cookie headers are missing when Azure Static Web App proxies requests to linked Azure Function App\n",
      "\n",
      "link de la pregunta: https://stackoverflow.com/questions/79785924/set-cookie-headers-are-missing-when-azure-static-web-app-proxies-requests-to-lin\n",
      "\n",
      "titulo de la pregunta: Is it possible to apply the `satisfies` operator to an inferred return type?\n",
      "\n",
      "link de la pregunta: https://stackoverflow.com/questions/79785910/is-it-possible-to-apply-the-satisfies-operator-to-an-inferred-return-type\n",
      "\n",
      "titulo de la pregunta: How can I properly implement ManifestStaticFilesStorage in Django?\n",
      "\n",
      "link de la pregunta: https://stackoverflow.com/questions/79785922/how-can-i-properly-implement-manifeststaticfilesstorage-in-django\n",
      "\n",
      "skipped\n",
      "\n",
      "skipped\n",
      "\n",
      "skipped\n",
      "\n",
      "skipped\n",
      "\n",
      "titulo de la pregunta: Single Sign On - Laravel Passport\n",
      "\n",
      "link de la pregunta: https://stackoverflow.com/questions/79785918/single-sign-on-laravel-passport\n",
      "\n",
      "skipped\n",
      "\n",
      "skipped\n",
      "\n",
      "skipped\n",
      "\n",
      "titulo de la pregunta: jest object in setupFilesAfterEnv differs from jest in test files\n",
      "\n",
      "link de la pregunta: https://stackoverflow.com/questions/79785915/jest-object-in-setupfilesafterenv-differs-from-jest-in-test-files\n",
      "\n",
      "titulo de la pregunta: No Data-Lineage in Dataplex of Google Data Fusion pipelines\n",
      "\n",
      "link de la pregunta: https://stackoverflow.com/questions/79785914/no-data-lineage-in-dataplex-of-google-data-fusion-pipelines\n",
      "\n",
      "titulo de la pregunta: Issue is that every time the VMSS health changes for a scale up / down event, an alert is triggered which results in hundreds (thousands) of emails\n",
      "\n",
      "link de la pregunta: https://stackoverflow.com/questions/79785913/issue-is-that-every-time-the-vmss-health-changes-for-a-scale-up-down-event-an\n",
      "\n",
      "skipped\n",
      "\n",
      "skipped\n",
      "\n",
      "skipped\n",
      "\n",
      "titulo de la pregunta: Dockerize Jest Project\n",
      "\n",
      "link de la pregunta: https://stackoverflow.com/questions/79785911/dockerize-jest-project\n",
      "\n",
      "titulo de la pregunta: With Outlook 2021, is there a way to use IConverterSession\n",
      "\n",
      "link de la pregunta: https://stackoverflow.com/questions/79785909/with-outlook-2021-is-there-a-way-to-use-iconvertersession\n",
      "\n",
      "skipped\n",
      "\n",
      "skipped\n",
      "\n",
      "skipped\n",
      "\n",
      "skipped\n",
      "\n"
     ]
    }
   ],
   "source": [
    "# ahora en esta seccion se pasara a estudiar todo lo mismo pero con un curso para encontrarle una mejor aplicacion a estos temas \n",
    "import requests\n",
    "\n",
    "\n",
    "# creamos la respuesta \n",
    "respuesta = requests.get('http://api.stackexchange.com/2.3/questions?order=desc&sort=activity&site=stackoverflow')\n",
    "\n",
    "for title in respuesta.json()['items']: \n",
    "    if title['answer_count'] == 0:  \n",
    "       print(f'titulo de la pregunta: {title['title']}\\n')\n",
    "       print(f'link de la pregunta: {title['link']}\\n')\n",
    "    else: \n",
    "        print('skipped\\n')\n",
    "        \n",
    "# lo anterior fue el trabajo final de como en teoria se debe consumir una api con request "
   ]
  },
  {
   "cell_type": "code",
   "execution_count": 6,
   "id": "c3a751ab",
   "metadata": {},
   "outputs": [
    {
     "name": "stdout",
     "output_type": "stream",
     "text": [
      "Servidor inicializado y corriendo en http://127.0.0.1:5050/\n",
      "Deteniendo el servidor\n",
      "Servidor finalizado\n"
     ]
    }
   ],
   "source": [
    "# construyendo mi propia api rest con flask (para entender el concepto mas puro que fast api)\n",
    "\n",
    "from flask import Flask\n",
    "import threading\n",
    "import time\n",
    "from werkzeug.serving import make_server \n",
    "\n",
    "\n",
    "app = Flask(__name__)\n",
    "\n",
    "@app.get('/')\n",
    "def index() -> None: \n",
    "    data_person: dict = {\n",
    "        'name': str(input('ingresa tu nombre: ')),\n",
    "        'edad': int(input('ingresa tu edad (actual pendejo): ')),\n",
    "        'sexo': bool(input('Ingresa tu sexo (con el que naciste maricon) true para hombre false para mujer: '))\n",
    "    }\n",
    "    # informacion que se pasa  a mostrar en el navegador \n",
    "    return data_person # devolvemos la informacion \n",
    "    \n",
    "    \n",
    "# clase para constrolar el servidor \n",
    "class ServerThrow(threading.Thread): \n",
    "    def __init__(self,app) -> None:\n",
    "        threading.Thread.__init__(self=self)\n",
    "        self.server = make_server('127.0.0.1', 5050, app)\n",
    "        self.ctx = app.app_context()\n",
    "        self.ctx.push()\n",
    "        \n",
    "        \n",
    "    # metodo para iniciar el servidor \n",
    "    def run(self): \n",
    "        print('Servidor inicializado y corriendo en http://127.0.0.1:5050/')\n",
    "        self.server.serve_forever()\n",
    "            \n",
    "    # metodo para detener el servidor \n",
    "    def shutdown(self): \n",
    "        print('Deteniendo el servidor')\n",
    "        self.server.shutdown()\n",
    "        print('Servidor finalizado')\n",
    "            \n",
    "            \n",
    "# inicializamos el servidor \n",
    "server_thead = ServerThrow(app=app)\n",
    "server_thead.start()\n",
    "\n",
    "# solicitamos tiempo en el cual queremos que se finalice \n",
    "tiempo = int(input('Ingrese el tiempo que quiere que dure vivo el servidor: '))\n",
    "time.sleep(tiempo)\n",
    "server_thead.shutdown()"
   ]
  },
  {
   "cell_type": "code",
   "execution_count": null,
   "id": "5b756a8c",
   "metadata": {},
   "outputs": [
    {
     "name": "stdout",
     "output_type": "stream",
     "text": [
      "too many values to unpack (expected 2)\n"
     ]
    }
   ],
   "source": [
    "# consumimos la api creada \n",
    "import requests\n",
    "try:  \n",
    "   respuesta = requests.get('http://127.0.0.1:5050/')\n",
    "   print(respuesta.json())\n",
    "except Exception as e: \n",
    "    print(e)"
   ]
  }
 ],
 "metadata": {
  "kernelspec": {
   "display_name": "feacture_ml_study",
   "language": "python",
   "name": "python3"
  },
  "language_info": {
   "codemirror_mode": {
    "name": "ipython",
    "version": 3
   },
   "file_extension": ".py",
   "mimetype": "text/x-python",
   "name": "python",
   "nbconvert_exporter": "python",
   "pygments_lexer": "ipython3",
   "version": "3.13.7"
  }
 },
 "nbformat": 4,
 "nbformat_minor": 5
}
