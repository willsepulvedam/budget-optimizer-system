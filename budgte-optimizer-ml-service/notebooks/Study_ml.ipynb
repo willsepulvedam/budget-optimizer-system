{
 "cells": [
  {
   "cell_type": "markdown",
   "id": "308f250b",
   "metadata": {},
   "source": [
    "Cuadernillo donde se estara plasmara el proceso y la logica que se utilizara inicialemente para implementar un modelo de IA multimodal como lo viene siendo gemini inicialmente se estudiara conceptos backend los cuales se estaran utilizando para el proyecto en cada cuadernillo y la forma en como se implementaran estos inicialmente se estara estudiando fundamentos de apis y el paquete request en python "
   ]
  },
  {
   "cell_type": "code",
   "execution_count": null,
   "id": "0058b7a3",
   "metadata": {},
   "outputs": [
    {
     "name": "stdout",
     "output_type": "stream",
     "text": [
      "200\n"
     ]
    }
   ],
   "source": [
    "# objectivo entender como funciona las apis  como hacer peticiones https \n",
    "\n",
    "\"\"\"\n",
    "   una api es un conjunto de reglas y formatos que permiten que dos programas puedan establecer una comunicacion en la cual se tiene un cliente y servidor en ese sentido el cliente es el que solicita los datos mientras que el servidor es el que los sirve valga la redundancia en python inicialmente y como estudio para entender estos conceptos se pueden realizar dichas peticiones utilizando la libreria request esta nos permite realizar acciones (metodos) los cuales funcionan como un crud el intercambio de datos de una api se puede dividir en 2 fases: \n",
    "   \n",
    "   1- request: esta contiene un metodo, endpoint el cual es la url, headers que son meta-informacion del programa y por ultimo un body que son los datos que se enviann \n",
    "   2- response: contiene un status_code que nos indica si la request fue procesada no procesada o cualquier imprevisto que haya sucedido con ella, un header y por ultimo la respuesta que nos da la api \n",
    "   \n",
    "   en las apis tenemos clasificaciones que estas son protocos un protoco es una variacion de una api y cada variacion se da de forma diferente para este modelo se estara utilizando una api rest \n",
    "   \n",
    "   una api rest es un tipo de protocolo en donde la informacion se transfiere en formato de estado representacional es decir que su estado en ese momento es su representacion que se transfiere no se transfiere el modelo en si si no una representacion de el mismo (una instancia de la informacion) \n",
    "\"\"\"\n",
    "\n",
    "import requests\n",
    "\n",
    "# inicialmente tenemos que importar la libreria luego de ello creamos una instancia pasandole el endpoint \n",
    "r = requests.get('https://api.github.com/users') # url para hacer peticiones a github/users\n",
    "\n",
    "\"\"\"\n",
    "     antes de ver el funcionamiento de request hay que hablar de algo http un metodo de transferencia de hipertexto es decir un protocolo en el cual se basa rest nos permite realizar peticiones similares a un crud y estas peticiones y acciones son las que hacen la magia y nos permite manipular los datos por eso acontinuacion se estudiaran dichos metodos que como se observa mas arriba se puede apreciar el primero que es get \n",
    "     \n",
    "     GET- nos permite solicitar informacion y listo mas nada \n",
    "\"\"\"\n",
    "\n",
    "print(r.status_code)\n",
    "\n",
    "# podemos ver informacion con .text\n",
    "print(r.text)"
   ]
  }
 ],
 "metadata": {
  "kernelspec": {
   "display_name": "feacture_ml_study",
   "language": "python",
   "name": "python3"
  },
  "language_info": {
   "codemirror_mode": {
    "name": "ipython",
    "version": 3
   },
   "file_extension": ".py",
   "mimetype": "text/x-python",
   "name": "python",
   "nbconvert_exporter": "python",
   "pygments_lexer": "ipython3",
   "version": "3.13.7"
  }
 },
 "nbformat": 4,
 "nbformat_minor": 5
}
